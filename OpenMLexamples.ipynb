{
    "cells": [
        {
            "cell_type": "markdown",
            "source": [
                "# Open ML examples"
            ],
            "metadata": {}
        },
        {
            "cell_type": "code",
            "execution_count": 1,
            "source": [
                "import openml\r\n",
                "from sklearn import impute, tree, pipeline"
            ],
            "outputs": [],
            "metadata": {}
        },
        {
            "cell_type": "markdown",
            "source": [
                "## Define a scikit-learn classifier or pipeline"
            ],
            "metadata": {}
        },
        {
            "cell_type": "code",
            "execution_count": 2,
            "source": [
                "# Define a scikit-learn classifier or pipeline\r\n",
                "clf = pipeline.Pipeline(\r\n",
                "    steps=[\r\n",
                "        ('imputer', impute.SimpleImputer()),\r\n",
                "        ('estimator', tree.DecisionTreeClassifier())\r\n",
                "    ]\r\n",
                ")"
            ],
            "outputs": [],
            "metadata": {}
        },
        {
            "cell_type": "code",
            "execution_count": 3,
            "source": [
                "# Download the OpenML task for the german credit card dataset with 10-fold\r\n",
                "# cross-validation.\r\n",
                "task = openml.tasks.get_task(32)"
            ],
            "outputs": [],
            "metadata": {}
        },
        {
            "cell_type": "code",
            "execution_count": 8,
            "source": [
                "import apis\r\n",
                "openml.config.apikey = apis.API_Key"
            ],
            "outputs": [],
            "metadata": {}
        },
        {
            "cell_type": "code",
            "execution_count": 9,
            "source": [
                "# Run the scikit-learn model on the task.\r\n",
                "run = openml.runs.run_model_on_task(clf, task,)"
            ],
            "outputs": [],
            "metadata": {}
        }
    ],
    "metadata": {
        "orig_nbformat": 4,
        "language_info": {
            "name": "python",
            "version": "3.9.6",
            "mimetype": "text/x-python",
            "codemirror_mode": {
                "name": "ipython",
                "version": 3
            },
            "pygments_lexer": "ipython3",
            "nbconvert_exporter": "python",
            "file_extension": ".py"
        },
        "kernelspec": {
            "name": "python3",
            "display_name": "Python 3.9.6 64-bit ('openml': conda)"
        },
        "interpreter": {
            "hash": "ce52fd2d16706a919005eca853dba7b046df6c5cab2e319153231392d21cd013"
        }
    },
    "nbformat": 4,
    "nbformat_minor": 2
}