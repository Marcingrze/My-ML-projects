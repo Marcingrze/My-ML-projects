{
  "cells": [
    {
      "cell_type": "code",
      "execution_count": 8,
      "source": [
        "%matplotlib inline"
      ],
      "outputs": [],
      "metadata": {
        "collapsed": false
      }
    },
    {
      "cell_type": "markdown",
      "source": [
        "\n",
        "# Introduction tutorial & Setup\n",
        "\n",
        "An example how to set up OpenML-Python followed up by a simple example.\n"
      ],
      "metadata": {}
    },
    {
      "cell_type": "markdown",
      "source": [
        "OpenML is an online collaboration platform for machine learning which allows\n",
        "you to:\n",
        "\n",
        "* Find or share interesting, well-documented datasets\n",
        "* Define research / modelling goals (tasks)\n",
        "* Explore large amounts of machine learning algorithms, with APIs in Java, R, Python\n",
        "* Log and share reproducible experiments, models, results\n",
        "* Works seamlessly with scikit-learn and other libraries\n",
        "* Large scale benchmarking, compare to state of the art\n",
        "\n",
        "\n"
      ],
      "metadata": {}
    },
    {
      "cell_type": "markdown",
      "source": [
        "## Installation\n",
        "Installation is done via ``pip``:\n",
        "\n",
        ".. code:: bash\n",
        "\n",
        "    pip install openml\n",
        "\n",
        "For further information, please check out the installation guide at\n",
        "`installation`.\n",
        "\n",
        "\n"
      ],
      "metadata": {}
    },
    {
      "cell_type": "markdown",
      "source": [
        "## Authentication\n",
        "\n",
        "The OpenML server can only be accessed by users who have signed up on the\n",
        "OpenML platform. If you don’t have an account yet, sign up now.\n",
        "You will receive an API key, which will authenticate you to the server\n",
        "and allow you to download and upload datasets, tasks, runs and flows.\n",
        "\n",
        "* Create an OpenML account (free) on https://www.openml.org.\n",
        "* After logging in, open your account page (avatar on the top right)\n",
        "* Open 'Account Settings', then 'API authentication' to find your API key.\n",
        "\n",
        "There are two ways to permanently authenticate:\n",
        "\n",
        "* Use the ``openml`` CLI tool with ``openml configure apikey MYKEY``,\n",
        "  replacing **MYKEY** with your API key.\n",
        "* Create a plain text file **~/.openml/config** with the line\n",
        "  **'apikey=MYKEY'**, replacing **MYKEY** with your API key. The config\n",
        "  file must be in the directory ~/.openml/config and exist prior to\n",
        "  importing the openml module.\n",
        "\n",
        "Alternatively, by running the code below and replacing 'YOURKEY' with your API key,\n",
        "you authenticate for the duration of the python process.\n",
        "\n"
      ],
      "metadata": {}
    },
    {
      "cell_type": "code",
      "execution_count": 1,
      "source": [
        "# License: BSD 3-Clause\r\n",
        "\r\n",
        "import openml\r\n",
        "from sklearn import neighbors"
      ],
      "outputs": [],
      "metadata": {
        "collapsed": false
      }
    },
    {
      "cell_type": "markdown",
      "source": [
        "<div class=\"alert alert-danger\"><h4>Warning</h4><p>.. include:: ../../test_server_usage_warning.txt</p></div>\n",
        "\n"
      ],
      "metadata": {}
    },
    {
      "cell_type": "code",
      "execution_count": 2,
      "source": [
        "openml.config.start_using_configuration_for_example()"
      ],
      "outputs": [
        {
          "output_type": "stream",
          "name": "stderr",
          "text": [
            "C:\\tools\\Anaconda3\\envs\\openml\\lib\\site-packages\\openml\\config.py:177: UserWarning: Switching to the test server https://test.openml.org/api/v1/xml to not upload results to the live server. Using the test server may result in reduced performance of the API!\n",
            "  warnings.warn(\n"
          ]
        }
      ],
      "metadata": {
        "collapsed": false
      }
    },
    {
      "cell_type": "markdown",
      "source": [
        "When using the main server instead, make sure your apikey is configured.\n",
        "This can be done with the following line of code (uncomment it!).\n",
        "Never share your apikey with others.\n",
        "\n"
      ],
      "metadata": {}
    },
    {
      "cell_type": "code",
      "execution_count": 2,
      "source": [
        "#import apis\r\n",
        "#openml.config.apikey = apis.API_Key"
      ],
      "outputs": [],
      "metadata": {
        "collapsed": false
      }
    },
    {
      "cell_type": "markdown",
      "source": [
        "## Caching\n",
        "When downloading datasets, tasks, runs and flows, they will be cached to\n",
        "retrieve them without calling the server later. As with the API key,\n",
        "the cache directory can be either specified through the config file or\n",
        "through the API:\n",
        "\n",
        "* Add the  line **cachedir = 'MYDIR'** to the config file, replacing\n",
        "  'MYDIR' with the path to the cache directory. By default, OpenML\n",
        "  will use **~/.openml/cache** as the cache directory.\n",
        "* Run the code below, replacing 'YOURDIR' with the path to the cache directory.\n",
        "\n"
      ],
      "metadata": {}
    },
    {
      "cell_type": "code",
      "execution_count": null,
      "source": [
        "# Uncomment and set your OpenML cache directory\r\n",
        "# import os\r\n",
        "# openml.config.cache_directory = os.path.expanduser('YOURDIR')"
      ],
      "outputs": [],
      "metadata": {
        "collapsed": false
      }
    },
    {
      "cell_type": "markdown",
      "source": [
        "## Simple Example\n",
        "Download the OpenML task for the eeg-eye-state.\n",
        "\n"
      ],
      "metadata": {}
    },
    {
      "cell_type": "code",
      "execution_count": 3,
      "source": [
        "task = openml.tasks.get_task(403)\r\n",
        "data = openml.datasets.get_dataset(task.dataset_id)\r\n",
        "clf = neighbors.KNeighborsClassifier(n_neighbors=5)\r\n",
        "run = openml.runs.run_model_on_task(clf, task, avoid_duplicate_runs=False)\r\n",
        "# Publish the experiment on OpenML (optional, requires an API key).\r\n",
        "# For this tutorial, our configuration publishes to the test server\r\n",
        "# as to not crowd the main server with runs created by examples.\r\n",
        "myrun = run.publish()\r\n",
        "print(f\"kNN on {data.name}: {myrun.openml_url}\")"
      ],
      "outputs": [
        {
          "output_type": "stream",
          "name": "stdout",
          "text": [
            "kNN on eeg-eye-state: https://test.openml.org/r/126105\n"
          ]
        }
      ],
      "metadata": {
        "collapsed": false
      }
    },
    {
      "cell_type": "code",
      "execution_count": null,
      "source": [
        "openml.config.stop_using_configuration_for_example()"
      ],
      "outputs": [],
      "metadata": {
        "collapsed": false
      }
    }
  ],
  "metadata": {
    "kernelspec": {
      "name": "python3",
      "display_name": "Python 3.9.6 64-bit ('openml': conda)"
    },
    "language_info": {
      "codemirror_mode": {
        "name": "ipython",
        "version": 3
      },
      "file_extension": ".py",
      "mimetype": "text/x-python",
      "name": "python",
      "nbconvert_exporter": "python",
      "pygments_lexer": "ipython3",
      "version": "3.9.6"
    },
    "interpreter": {
      "hash": "ce52fd2d16706a919005eca853dba7b046df6c5cab2e319153231392d21cd013"
    }
  },
  "nbformat": 4,
  "nbformat_minor": 2
}